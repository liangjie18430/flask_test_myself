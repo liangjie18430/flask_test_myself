{
 "cells": [
  {
   "cell_type": "code",
   "execution_count": 2,
   "metadata": {
    "collapsed": true
   },
   "outputs": [
    {
     "data": {
      "text/plain": [
       "<werkzeug.routing.MapAdapter at 0x7ff4ec52f550>"
      ]
     },
     "execution_count": 2,
     "metadata": {},
     "output_type": "execute_result"
    }
   ],
   "source": [
    "from werkzeug.routing import Map,Rule,NotFound,RequestRedirect\n",
    "\n",
    "#here use the redefine Map\n",
    "#from here we could see endpoint is a String type.\n",
    "url_map = Map([\n",
    "    Rule('/', endpoint='blog/index'),\n",
    "    Rule('/<int:year>/', endpoint='blog/archive'),\n",
    "    Rule('/<int:year>/<int:month>/', endpoint='blog/archive'),\n",
    "    Rule('/<int:year>/<int:month>/<int:day>/', endpoint='blog/archive'),\n",
    "    Rule('/<int:year>/<int:month>/<int:day>/<slug>',\n",
    "         endpoint='blog/show_post'),\n",
    "    Rule('/about', endpoint='blog/about_me'),\n",
    "    Rule('/feeds/', endpoint='blog/feeds'),\n",
    "    Rule('/feeds/<feed_name>.rss', endpoint='blog/show_feed')\n",
    "])\n",
    "urls = url_map.bind(\"example.com\",\"/\")"
   ]
  },
  {
   "cell_type": "code",
   "execution_count": null,
   "metadata": {},
   "outputs": [],
   "source": []
  }
 ],
 "metadata": {
  "kernelspec": {
   "display_name": "Python 2",
   "language": "python",
   "name": "python2"
  },
  "language_info": {
   "codemirror_mode": {
    "name": "ipython",
    "version": 2
   },
   "file_extension": ".py",
   "mimetype": "text/x-python",
   "name": "python",
   "nbconvert_exporter": "python",
   "pygments_lexer": "ipython2",
   "version": "2.7.6"
  }
 },
 "nbformat": 4,
 "nbformat_minor": 0
}
